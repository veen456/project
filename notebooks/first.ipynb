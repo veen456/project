{
 "cells": [
  {
   "cell_type": "markdown",
   "id": "edbf8cc0",
   "metadata": {},
   "source": [
    "---\n",
    "title: Interactive Functions\n",
    "author: Vihaan Budhraja\n",
    "date: October 16, 2025\n",
    "tags: [jupyter, notebook, frontmatter]\n",
    "permalink: /functions/interactive\n",
    "---"
   ]
  },
  {
   "cell_type": "markdown",
   "id": "3281adf0",
   "metadata": {},
   "source": [
    "**Interactive functions**\n",
    "\n",
    "Farenheit to Celcius:"
   ]
  },
  {
   "cell_type": "code",
   "execution_count": 5,
   "id": "c131d110",
   "metadata": {},
   "outputs": [
    {
     "name": "stdout",
     "output_type": "stream",
     "text": [
      "32.0 degrees in Farenheit is 0.0 degrees in Celcius\n"
     ]
    }
   ],
   "source": [
    "Farenheit = float(input(\"Your temperature: \"))\n",
    "def F_C():\n",
    "    Celsius = (Farenheit - 32) * 5/9\n",
    "    string_farenheit = str(Farenheit)\n",
    "    string_celsius = str(Celsius)\n",
    "    print(string_farenheit + \" degrees in Farenheit is \" + string_celsius + \" degrees in Celcius\")\n",
    "\n",
    "F_C()\n"
   ]
  },
  {
   "cell_type": "markdown",
   "id": "a98791ce",
   "metadata": {},
   "source": [
    "Celsius to Farenheit:"
   ]
  },
  {
   "cell_type": "code",
   "execution_count": null,
   "id": "aabd50e3",
   "metadata": {},
   "outputs": [],
   "source": [
    "Celsius = float(input(\"Your temperature: \"))\n",
    "def C_F():\n",
    "    Farenheit = (Celsius - 32) * 5/9\n",
    "    string_farenheit = str(Farenheit)\n",
    "    string_celsius = str(Celsius)\n",
    "    print(string_celsius + \" degrees in Celsius is \" + string_farenheit + \" degrees in Farenheit\")\n",
    "\n",
    "C_F()"
   ]
  }
 ],
 "metadata": {
  "kernelspec": {
   "display_name": "Python 3",
   "language": "python",
   "name": "python3"
  },
  "language_info": {
   "codemirror_mode": {
    "name": "ipython",
    "version": 3
   },
   "file_extension": ".py",
   "mimetype": "text/x-python",
   "name": "python",
   "nbconvert_exporter": "python",
   "pygments_lexer": "ipython3",
   "version": "3.12.1"
  }
 },
 "nbformat": 4,
 "nbformat_minor": 5
}
